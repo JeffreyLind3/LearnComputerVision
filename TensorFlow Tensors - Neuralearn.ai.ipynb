{
 "cells": [
  {
   "cell_type": "code",
   "id": "initial_id",
   "metadata": {
    "collapsed": true,
    "ExecuteTime": {
     "end_time": "2024-11-26T19:47:59.075609Z",
     "start_time": "2024-11-26T19:47:59.073552Z"
    }
   },
   "source": "import tensorflow as tf",
   "outputs": [],
   "execution_count": 9
  },
  {
   "metadata": {
    "ExecuteTime": {
     "end_time": "2024-11-26T19:49:01.812806Z",
     "start_time": "2024-11-26T19:49:01.810442Z"
    }
   },
   "cell_type": "code",
   "source": [
    "tensor_zero_d = tf.constant(4)\n",
    "print(tensor_zero_d)"
   ],
   "id": "b1df169ea57d8a91",
   "outputs": [
    {
     "name": "stdout",
     "output_type": "stream",
     "text": [
      "tf.Tensor(4, shape=(), dtype=int32)\n"
     ]
    }
   ],
   "execution_count": 11
  },
  {
   "metadata": {
    "ExecuteTime": {
     "end_time": "2024-11-26T20:04:54.751022Z",
     "start_time": "2024-11-26T20:04:54.748089Z"
    }
   },
   "cell_type": "code",
   "source": [
    "tensor_bool = tf.constant([True,True,False])\n",
    "print(tensor_bool)"
   ],
   "id": "fff6a2d5fbfd685f",
   "outputs": [
    {
     "name": "stdout",
     "output_type": "stream",
     "text": [
      "tf.Tensor([ True  True False], shape=(3,), dtype=bool)\n"
     ]
    }
   ],
   "execution_count": 29
  },
  {
   "metadata": {
    "ExecuteTime": {
     "end_time": "2024-11-26T20:05:27.827058Z",
     "start_time": "2024-11-26T20:05:27.824693Z"
    }
   },
   "cell_type": "code",
   "source": [
    "tensor_string = tf.constant([\"hello world\",\"hi \"])\n",
    "print(tensor_string)"
   ],
   "id": "987933ed62f39ca4",
   "outputs": [
    {
     "name": "stdout",
     "output_type": "stream",
     "text": [
      "tf.Tensor([b'hello world' b'hi '], shape=(2,), dtype=string)\n"
     ]
    }
   ],
   "execution_count": 31
  },
  {
   "metadata": {
    "ExecuteTime": {
     "end_time": "2024-11-26T20:04:01.909648Z",
     "start_time": "2024-11-26T20:04:01.906241Z"
    }
   },
   "cell_type": "code",
   "source": [
    "tensor_one_d = tf.constant([2,0.,-3,8,90.],dtype=tf.float32)\n",
    "casted_tensor_one_d = tf.cast(tensor_one_d,dtype=tf.bool)\n",
    "print(tensor_one_d)\n",
    "print(casted_tensor_one_d)"
   ],
   "id": "68a20c461af8e665",
   "outputs": [
    {
     "name": "stdout",
     "output_type": "stream",
     "text": [
      "tf.Tensor([ 2.  0. -3.  8. 90.], shape=(5,), dtype=float32)\n",
      "tf.Tensor([ True False  True  True  True], shape=(5,), dtype=bool)\n"
     ]
    }
   ],
   "execution_count": 28
  },
  {
   "metadata": {
    "ExecuteTime": {
     "end_time": "2024-11-26T19:51:34.879335Z",
     "start_time": "2024-11-26T19:51:34.876574Z"
    }
   },
   "cell_type": "code",
   "source": [
    "tensor_two_d = tf.constant([\n",
    "    [1,2,0],\n",
    "    [3,5,-1],\n",
    "    [1,5,6],\n",
    "    [2,3,8]\n",
    "])\n",
    "print(tensor_two_d)"
   ],
   "id": "e7a7fe49730e5e7",
   "outputs": [
    {
     "name": "stdout",
     "output_type": "stream",
     "text": [
      "tf.Tensor(\n",
      "[[ 1  2  0]\n",
      " [ 3  5 -1]\n",
      " [ 1  5  6]\n",
      " [ 2  3  8]], shape=(4, 3), dtype=int32)\n"
     ]
    }
   ],
   "execution_count": 15
  },
  {
   "metadata": {
    "ExecuteTime": {
     "end_time": "2024-11-26T19:54:14.599266Z",
     "start_time": "2024-11-26T19:54:14.596340Z"
    }
   },
   "cell_type": "code",
   "source": [
    "tensor_three_d = tf.constant([\n",
    " [[1,2,0],\n",
    " [3,5,-1]],\n",
    "\n",
    " [[10,2,0],\n",
    " [1,0,2]],\n",
    "\n",
    " [[5,8,0],\n",
    " [2,7,0]],\n",
    "\n",
    " [[2,1,9],\n",
    " [4,-3,32]]\n",
    "])\n",
    "print(tensor_three_d)"
   ],
   "id": "fd0a07dd908764cb",
   "outputs": [
    {
     "name": "stdout",
     "output_type": "stream",
     "text": [
      "tf.Tensor(\n",
      "[[[ 1  2  0]\n",
      "  [ 3  5 -1]]\n",
      "\n",
      " [[10  2  0]\n",
      "  [ 1  0  2]]\n",
      "\n",
      " [[ 5  8  0]\n",
      "  [ 2  7  0]]\n",
      "\n",
      " [[ 2  1  9]\n",
      "  [ 4 -3 32]]], shape=(4, 2, 3), dtype=int32)\n"
     ]
    }
   ],
   "execution_count": 17
  },
  {
   "metadata": {
    "ExecuteTime": {
     "end_time": "2024-11-26T19:55:01.679362Z",
     "start_time": "2024-11-26T19:55:01.677199Z"
    }
   },
   "cell_type": "code",
   "source": "print(tensor_three_d.ndim)",
   "id": "cbc33d0eb7f39ac",
   "outputs": [
    {
     "name": "stdout",
     "output_type": "stream",
     "text": [
      "3\n"
     ]
    }
   ],
   "execution_count": 22
  },
  {
   "metadata": {
    "ExecuteTime": {
     "end_time": "2024-11-26T20:05:52.643027Z",
     "start_time": "2024-11-26T20:05:52.641058Z"
    }
   },
   "cell_type": "code",
   "source": "import numpy as np",
   "id": "50ef8e033f26e171",
   "outputs": [],
   "execution_count": 32
  },
  {
   "metadata": {
    "ExecuteTime": {
     "end_time": "2024-11-26T20:06:09.217865Z",
     "start_time": "2024-11-26T20:06:09.215370Z"
    }
   },
   "cell_type": "code",
   "source": [
    "np_array = np.array([1,2,4])\n",
    "print(np_array)"
   ],
   "id": "21e071bf035d41c5",
   "outputs": [
    {
     "name": "stdout",
     "output_type": "stream",
     "text": [
      "[1 2 4]\n"
     ]
    }
   ],
   "execution_count": 33
  },
  {
   "metadata": {
    "ExecuteTime": {
     "end_time": "2024-11-26T20:06:51.918006Z",
     "start_time": "2024-11-26T20:06:51.913992Z"
    }
   },
   "cell_type": "code",
   "source": [
    "converted_tensor = tf.convert_to_tensor(np_array)\n",
    "print(converted_tensor)"
   ],
   "id": "6465dd42a0313761",
   "outputs": [
    {
     "name": "stdout",
     "output_type": "stream",
     "text": [
      "tf.Tensor([1 2 4], shape=(3,), dtype=int64)\n"
     ]
    }
   ],
   "execution_count": 34
  },
  {
   "metadata": {},
   "cell_type": "code",
   "outputs": [],
   "execution_count": null,
   "source": "",
   "id": "94afe337e159b9dc"
  },
  {
   "metadata": {},
   "cell_type": "code",
   "outputs": [],
   "execution_count": null,
   "source": "-Tensors are Multi Dimensional Arrays",
   "id": "729859f9a45c2956"
  }
 ],
 "metadata": {
  "kernelspec": {
   "display_name": "Python 3",
   "language": "python",
   "name": "python3"
  },
  "language_info": {
   "codemirror_mode": {
    "name": "ipython",
    "version": 2
   },
   "file_extension": ".py",
   "mimetype": "text/x-python",
   "name": "python",
   "nbconvert_exporter": "python",
   "pygments_lexer": "ipython2",
   "version": "2.7.6"
  }
 },
 "nbformat": 4,
 "nbformat_minor": 5
}
