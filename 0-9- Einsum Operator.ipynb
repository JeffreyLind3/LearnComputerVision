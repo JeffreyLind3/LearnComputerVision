{
 "cells": [
  {
   "cell_type": "code",
   "execution_count": 1,
   "id": "initial_id",
   "metadata": {
    "ExecuteTime": {
     "end_time": "2024-12-03T02:55:54.417300Z",
     "start_time": "2024-12-03T02:55:54.415996Z"
    }
   },
   "outputs": [],
   "source": [
    "import numpy as np"
   ]
  },
  {
   "cell_type": "code",
   "execution_count": 5,
   "id": "555f8bdd-8175-4f88-a906-8507301edd17",
   "metadata": {},
   "outputs": [
    {
     "name": "stdout",
     "output_type": "stream",
     "text": [
      "(3, 4)\n",
      "(4, 5)\n",
      "Matmul C =: \n",
      "\n",
      "[[33 69 77 -6 27]\n",
      " [ 9 12  0 10 13]\n",
      " [21 51 60 -7 14]] \n",
      "\n",
      "Einsum C =: \n",
      "\n",
      "[[33 69 77 -6 27]\n",
      " [ 9 12  0 10 13]\n",
      " [21 51 60 -7 14]]\n"
     ]
    }
   ],
   "source": [
    "A = np.array([[2, 6, 5, 2],\n",
    "              [2, -2, 2, 3],\n",
    "              [1, 5, 4, 0]])\n",
    "\n",
    "B = np.array([[2, 9, 0, 3, 0],\n",
    "              [3, 6, 8, -2, 2],\n",
    "              [1, 3, 5, 0, 1],\n",
    "              [3, 0, 2, 0, 5]])\n",
    "print(A.shape)\n",
    "print(B.shape)\n",
    "\n",
    "print(\"Matmul C =: \\n\")\n",
    "print(np.matmul(A, B), \"\\n\")\n",
    "\n",
    "print(\"Einsum C =: \\n\")\n",
    "print(np.einsum('ij,jk -> ik', A, B))"
   ]
  },
  {
   "cell_type": "code",
   "execution_count": 10,
   "id": "688de1b0-4d64-49d7-98fb-114347129dcd",
   "metadata": {},
   "outputs": [
    {
     "name": "stdout",
     "output_type": "stream",
     "text": [
      "(3, 4) (3, 4)\n",
      "Hardamond C =: \n",
      "\n",
      "[[  4  54   0   6]\n",
      " [  6 -12  16  -6]\n",
      " [  1  15  20   0]] \n",
      "\n",
      "Einsum C=: \n",
      "\n",
      "[[  4  54   0   6]\n",
      " [  6 -12  16  -6]\n",
      " [  1  15  20   0]]\n"
     ]
    }
   ],
   "source": [
    "A = np.array([[2, 6, 5, 2],\n",
    "              [2, -2, 2, 3],\n",
    "              [1, 5, 4, 0]])\n",
    "\n",
    "B = np.array([[2, 9, 0, 3],\n",
    "              [3, 6, 8, -2],\n",
    "              [1, 3, 5, 0]])\n",
    "print(A.shape, B.shape)\n",
    "\n",
    "\n",
    "print(\"Hardamond C =: \\n\")\n",
    "print(A*B, \"\\n\")\n",
    "\n",
    "print(\"Einsum C=: \\n\")\n",
    "print(np.einsum('ij,ij -> ij', A, B))"
   ]
  },
  {
   "cell_type": "code",
   "execution_count": 16,
   "id": "f4494574-a625-4a01-adb6-2d2aa3ee93c4",
   "metadata": {},
   "outputs": [
    {
     "name": "stdout",
     "output_type": "stream",
     "text": [
      "Transposed A =: \n",
      "\n",
      "[[ 2  2  1]\n",
      " [ 6 -2  5]\n",
      " [ 5  2  4]\n",
      " [ 2  3  0]] \n",
      "\n",
      "Einsum Transpose A =: \n",
      "\n",
      "[[ 2  2  1]\n",
      " [ 6 -2  5]\n",
      " [ 5  2  4]\n",
      " [ 2  3  0]]\n"
     ]
    }
   ],
   "source": [
    "A = np.array([[2, 6, 5, 2],\n",
    "              [2, -2, 2, 3],\n",
    "              [1, 5, 4, 0]])\n",
    "\n",
    "print(\"Transposed A =: \\n\")\n",
    "print(A.T, \"\\n\")\n",
    "\n",
    "print(\"Einsum Transpose A =: \\n\")\n",
    "print(np.einsum(\"ij -> ji\", A))"
   ]
  },
  {
   "cell_type": "code",
   "execution_count": 20,
   "id": "747fbb81-a9f3-4fc8-835b-fa93c351a21b",
   "metadata": {},
   "outputs": [
    {
     "name": "stdout",
     "output_type": "stream",
     "text": [
      "(2, 3, 4) (2, 4, 5)\n",
      "Batch Multiplication C =: \n",
      "\n",
      "[[[33 69 77 -6 27]\n",
      "  [ 9 12  0 10 13]\n",
      "  [21 51 60 -7 14]]\n",
      "\n",
      " [[77  0 36 19  6]\n",
      "  [ 8  0 12 -4  4]\n",
      "  [23  0 29 -6 10]]] \n",
      "\n",
      "Einsum C =: \n",
      "\n",
      "[[[33 69 77 -6 27]\n",
      "  [ 9 12  0 10 13]\n",
      "  [21 51 60 -7 14]]\n",
      "\n",
      " [[77  0 36 19  6]\n",
      "  [ 8  0 12 -4  4]\n",
      "  [23  0 29 -6 10]]]\n"
     ]
    }
   ],
   "source": [
    "A = np.array([\n",
    "               [[2, 6, 5, 2],\n",
    "                [2, -2, 2, 3],\n",
    "                [1, 5, 4, 0]],\n",
    "\n",
    "               [[1, 3, 1, 22],\n",
    "                [0, 2, 2, 0],\n",
    "                [1, 5, 4, 1]] ])\n",
    "\n",
    "B = np.array([\n",
    "               [[2, 9, 0, 3, 0],\n",
    "                [3, 6, 8, -2, 2],\n",
    "                [1, 3, 5, 0, 1],\n",
    "                [3, 0, 2, 0, 5]],\n",
    "\n",
    "               [[1, 0, 0, 3, 0],\n",
    "                [3, 0, 4, -2, 2],\n",
    "                [1, 0, 2, 0, 0],\n",
    "                [3, 0, 1, 1, 0]] ])\n",
    "\n",
    "\n",
    "print(A.shape, B.shape)\n",
    "\n",
    "print(\"Batch Multiplication C =: \\n\")\n",
    "print(np.matmul(A,B), \"\\n\")\n",
    "\n",
    "print(\"Einsum C =: \\n\")\n",
    "print(np.einsum('bij,bjk -> bik', A,B))"
   ]
  },
  {
   "cell_type": "code",
   "execution_count": 23,
   "id": "0e172424-62f5-4648-821d-380f089b7230",
   "metadata": {},
   "outputs": [
    {
     "name": "stdout",
     "output_type": "stream",
     "text": [
      "Sum A =: \n",
      "\n",
      "72 \n",
      "\n",
      "Einsum A =: \n",
      "\n",
      "72\n"
     ]
    }
   ],
   "source": [
    "A = np.array([\n",
    "               [[2, 6, 5, 2],\n",
    "                [2, -2, 2, 3],\n",
    "                [1, 5, 4, 0]],\n",
    "\n",
    "               [[1, 3, 1, 22],\n",
    "                [0, 2, 2, 0],\n",
    "                [1, 5, 4, 1]] ])\n",
    "\n",
    "print(\"Sum A =: \\n\")\n",
    "print(np.sum(A), \"\\n\")\n",
    "\n",
    "print(\"Einsum A =: \\n\")\n",
    "print(np.einsum('bij -> ', A))"
   ]
  },
  {
   "cell_type": "code",
   "execution_count": 25,
   "id": "37c19c6d-a0b6-467a-b2a8-5506aab08480",
   "metadata": {},
   "outputs": [
    {
     "name": "stdout",
     "output_type": "stream",
     "text": [
      "Einsum A =: \n",
      "\n",
      "[15  5 10]\n",
      "-----------------------------\n"
     ]
    }
   ],
   "source": [
    "A = np.array([[2, 6, 5, 2],\n",
    "              [2, -2, 2, 3],\n",
    "              [1, 5, 4, 0]])\n",
    "\n",
    "# print(\"Axis 0 Sum A =: \\n\")\n",
    "# print(np.sum(A, axis = 0), \"\\n\")\n",
    "\n",
    "print(\"Einsum A =: \\n\")\n",
    "print(np.einsum('ij -> i', A))\n",
    "print(\"-----------------------------\")\n",
    "\n",
    "# print(\"Axis 1 Sum A =: \\n\")\n",
    "# print(np.sum(A, axis = 1), \"\\n\")\n",
    "\n",
    "# print(\"Einsum A =: \\n\")\n",
    "# print(np.einsum('ij -> i', A))\n",
    "\n"
   ]
  },
  {
   "cell_type": "code",
   "execution_count": 27,
   "id": "4b1dc162-a6f0-499b-833d-331dcee69db7",
   "metadata": {},
   "outputs": [],
   "source": [
    "Q = batchsize, s_q, modelsize\n",
    "K = batchsize, s_k, modelsize"
   ]
  },
  {
   "cell_type": "code",
   "execution_count": 28,
   "id": "44e62bb2-8321-4651-ac1f-e625a145944f",
   "metadata": {},
   "outputs": [],
   "source": [
    "Q = np.random.randn(32, 64, 512)\n",
    "K = np.random.randn(32, 128, 512)"
   ]
  },
  {
   "cell_type": "code",
   "execution_count": 30,
   "id": "190ea7d6-5223-4501-838e-6c37cdeb0215",
   "metadata": {},
   "outputs": [
    {
     "data": {
      "text/plain": [
       "(32, 64, 128)"
      ]
     },
     "execution_count": 30,
     "metadata": {},
     "output_type": "execute_result"
    }
   ],
   "source": [
    "np.einsum(\"bqm,bkm -> bqk\", Q, K).shape"
   ]
  },
  {
   "cell_type": "code",
   "execution_count": 39,
   "id": "ca48ca60-ed2a-4fea-a17f-969395aa5cf1",
   "metadata": {},
   "outputs": [],
   "source": [
    "A = np.random.randn(2, 4, 4, 2)\n",
    "B = np.random.randn(2, 4, 4, 1)"
   ]
  },
  {
   "cell_type": "code",
   "execution_count": 40,
   "id": "f0b9da52-4192-4f6c-a566-744a8d84274c",
   "metadata": {},
   "outputs": [
    {
     "data": {
      "text/plain": [
       "array([[[[ 0.1387639 , -0.39260661]],\n",
       "\n",
       "        [[-6.4138574 , -1.46033795]],\n",
       "\n",
       "        [[-1.21298404,  3.15070551]],\n",
       "\n",
       "        [[-1.67339995, -5.22771366]]],\n",
       "\n",
       "\n",
       "       [[[-2.69401486,  0.7609918 ]],\n",
       "\n",
       "        [[ 1.19256107,  2.07165269]],\n",
       "\n",
       "        [[-2.19755847,  1.34832215]],\n",
       "\n",
       "        [[ 2.41901056,  2.06039828]]]])"
      ]
     },
     "execution_count": 40,
     "metadata": {},
     "output_type": "execute_result"
    }
   ],
   "source": [
    "np.einsum(\"bcik,bcij -> bckj\", B, A)"
   ]
  },
  {
   "cell_type": "code",
   "execution_count": 41,
   "id": "c9387850-ff4c-4d45-8de4-24c6347a7b01",
   "metadata": {},
   "outputs": [
    {
     "data": {
      "text/plain": [
       "array([[[[ 0.1387639 , -0.39260661]],\n",
       "\n",
       "        [[-6.4138574 , -1.46033795]],\n",
       "\n",
       "        [[-1.21298404,  3.15070551]],\n",
       "\n",
       "        [[-1.67339995, -5.22771366]]],\n",
       "\n",
       "\n",
       "       [[[-2.69401486,  0.7609918 ]],\n",
       "\n",
       "        [[ 1.19256107,  2.07165269]],\n",
       "\n",
       "        [[-2.19755847,  1.34832215]],\n",
       "\n",
       "        [[ 2.41901056,  2.06039828]]]])"
      ]
     },
     "execution_count": 41,
     "metadata": {},
     "output_type": "execute_result"
    }
   ],
   "source": [
    "np.matmul(np.transpose(B, (0,1,3,2)), A)"
   ]
  },
  {
   "cell_type": "code",
   "execution_count": null,
   "id": "1e889fd9-4373-41eb-a0c9-3dff7fec7aac",
   "metadata": {},
   "outputs": [],
   "source": []
  }
 ],
 "metadata": {
  "kernelspec": {
   "display_name": "Python 3 (ipykernel)",
   "language": "python",
   "name": "python3"
  },
  "language_info": {
   "codemirror_mode": {
    "name": "ipython",
    "version": 3
   },
   "file_extension": ".py",
   "mimetype": "text/x-python",
   "name": "python",
   "nbconvert_exporter": "python",
   "pygments_lexer": "ipython3",
   "version": "3.12.7"
  }
 },
 "nbformat": 4,
 "nbformat_minor": 5
}
