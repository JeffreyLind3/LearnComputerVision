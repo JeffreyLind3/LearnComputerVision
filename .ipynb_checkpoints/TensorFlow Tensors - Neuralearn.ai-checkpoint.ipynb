{
 "cells": [
  {
   "cell_type": "code",
   "execution_count": 1,
   "id": "initial_id",
   "metadata": {
    "ExecuteTime": {
     "end_time": "2024-12-03T02:54:16.390876Z",
     "start_time": "2024-12-03T02:54:13.422907Z"
    }
   },
   "outputs": [],
   "source": [
    "import tensorflow as tf"
   ]
  },
  {
   "cell_type": "code",
   "execution_count": 2,
   "id": "d25794402b8fb697",
   "metadata": {
    "ExecuteTime": {
     "end_time": "2024-12-03T02:54:16.431450Z",
     "start_time": "2024-12-03T02:54:16.400564Z"
    }
   },
   "outputs": [
    {
     "name": "stdout",
     "output_type": "stream",
     "text": [
      "tf.Tensor([4 3 1], shape=(3,), dtype=int32)\n",
      "tf.Tensor([4 3 2], shape=(3,), dtype=int32)\n",
      "tf.Tensor([1 1 1], shape=(3,), dtype=int32)\n",
      "tf.Tensor([1 3 3], shape=(3,), dtype=int32)\n"
     ]
    }
   ],
   "source": [
    "tf.random.set_seed(5)\n",
    "print(tf.random.uniform(shape=[3], maxval=5, dtype=tf.int32, seed=10))\n",
    "print(tf.random.uniform(shape=[3], maxval=5, dtype=tf.int32, seed=10))\n",
    "print(tf.random.uniform(shape=[3], maxval=5, dtype=tf.int32, seed=10))\n",
    "print(tf.random.uniform(shape=[3], maxval=5, dtype=tf.int32, seed=10))"
   ]
  },
  {
   "cell_type": "code",
   "execution_count": 3,
   "id": "f2d79aea3a676d5a",
   "metadata": {
    "ExecuteTime": {
     "end_time": "2024-12-03T02:54:16.476541Z",
     "start_time": "2024-12-03T02:54:16.472271Z"
    }
   },
   "outputs": [
    {
     "name": "stdout",
     "output_type": "stream",
     "text": [
      "tf.Tensor([4 3 1], shape=(3,), dtype=int32)\n",
      "tf.Tensor([4 3 2], shape=(3,), dtype=int32)\n",
      "tf.Tensor([1 1 1], shape=(3,), dtype=int32)\n",
      "tf.Tensor([1 3 3], shape=(3,), dtype=int32)\n"
     ]
    }
   ],
   "source": [
    "tf.random.set_seed(5)\n",
    "print(tf.random.uniform(shape=[3], maxval=5, dtype=tf.int32, seed=10))\n",
    "print(tf.random.uniform(shape=[3], maxval=5, dtype=tf.int32, seed=10))\n",
    "print(tf.random.uniform(shape=[3], maxval=5, dtype=tf.int32, seed=10))\n",
    "print(tf.random.uniform(shape=[3], maxval=5, dtype=tf.int32, seed=10))"
   ]
  },
  {
   "cell_type": "code",
   "execution_count": 4,
   "id": "b1df169ea57d8a91",
   "metadata": {
    "ExecuteTime": {
     "end_time": "2024-12-03T02:54:16.485470Z",
     "start_time": "2024-12-03T02:54:16.483446Z"
    }
   },
   "outputs": [
    {
     "name": "stdout",
     "output_type": "stream",
     "text": [
      "tf.Tensor(4, shape=(), dtype=int32)\n"
     ]
    }
   ],
   "source": [
    "tensor_zero_d = tf.constant(4)\n",
    "print(tensor_zero_d)"
   ]
  },
  {
   "cell_type": "code",
   "execution_count": 5,
   "id": "fff6a2d5fbfd685f",
   "metadata": {
    "ExecuteTime": {
     "end_time": "2024-12-03T02:54:16.505801Z",
     "start_time": "2024-12-03T02:54:16.503146Z"
    }
   },
   "outputs": [
    {
     "name": "stdout",
     "output_type": "stream",
     "text": [
      "tf.Tensor([ True  True False], shape=(3,), dtype=bool)\n"
     ]
    }
   ],
   "source": [
    "tensor_bool = tf.constant([True,True,False])\n",
    "print(tensor_bool)"
   ]
  },
  {
   "cell_type": "code",
   "execution_count": 6,
   "id": "987933ed62f39ca4",
   "metadata": {
    "ExecuteTime": {
     "end_time": "2024-12-03T02:54:16.527961Z",
     "start_time": "2024-12-03T02:54:16.525292Z"
    }
   },
   "outputs": [
    {
     "name": "stdout",
     "output_type": "stream",
     "text": [
      "tf.Tensor([b'hello world' b'hi '], shape=(2,), dtype=string)\n"
     ]
    }
   ],
   "source": [
    "tensor_string = tf.constant([\"hello world\",\"hi \"])\n",
    "print(tensor_string)"
   ]
  },
  {
   "cell_type": "code",
   "execution_count": 7,
   "id": "68a20c461af8e665",
   "metadata": {
    "ExecuteTime": {
     "end_time": "2024-12-03T02:54:16.551675Z",
     "start_time": "2024-12-03T02:54:16.547455Z"
    }
   },
   "outputs": [
    {
     "name": "stdout",
     "output_type": "stream",
     "text": [
      "tf.Tensor([ 2.  0. -3.  8. 90.], shape=(5,), dtype=float32)\n",
      "tf.Tensor([ True False  True  True  True], shape=(5,), dtype=bool)\n"
     ]
    }
   ],
   "source": [
    "tensor_one_d = tf.constant([2,0.,-3,8,90.],dtype=tf.float32)\n",
    "casted_tensor_one_d = tf.cast(tensor_one_d,dtype=tf.bool)\n",
    "print(tensor_one_d)\n",
    "print(casted_tensor_one_d)"
   ]
  },
  {
   "cell_type": "code",
   "execution_count": 8,
   "id": "e7a7fe49730e5e7",
   "metadata": {
    "ExecuteTime": {
     "end_time": "2024-12-03T02:54:16.571537Z",
     "start_time": "2024-12-03T02:54:16.569360Z"
    }
   },
   "outputs": [
    {
     "name": "stdout",
     "output_type": "stream",
     "text": [
      "tf.Tensor(\n",
      "[[ 1  2  0]\n",
      " [ 3  5 -1]\n",
      " [ 1  5  6]\n",
      " [ 2  3  8]], shape=(4, 3), dtype=int32)\n"
     ]
    }
   ],
   "source": [
    "tensor_two_d = tf.constant([\n",
    "    [1,2,0],\n",
    "    [3,5,-1],\n",
    "    [1,5,6],\n",
    "    [2,3,8]\n",
    "])\n",
    "print(tensor_two_d)"
   ]
  },
  {
   "cell_type": "code",
   "execution_count": 9,
   "id": "fd0a07dd908764cb",
   "metadata": {
    "ExecuteTime": {
     "end_time": "2024-12-03T02:54:16.593897Z",
     "start_time": "2024-12-03T02:54:16.590652Z"
    }
   },
   "outputs": [
    {
     "name": "stdout",
     "output_type": "stream",
     "text": [
      "(4, 2, 3)\n",
      "tf.Tensor([4 2 3], shape=(3,), dtype=int32)\n"
     ]
    }
   ],
   "source": [
    "tensor_three_d = tf.constant([\n",
    " [[1,2,0],\n",
    " [3,5,-1]],\n",
    "\n",
    " [[10,2,0],\n",
    " [1,0,2]],\n",
    "\n",
    " [[5,8,0],\n",
    " [2,7,0]],\n",
    "\n",
    " [[2,1,9],\n",
    " [4,-3,32]]\n",
    "])\n",
    "\n",
    "print(tensor_three_d.shape)\n",
    "print(tf.shape(tensor_three_d))"
   ]
  },
  {
   "cell_type": "code",
   "execution_count": 10,
   "id": "cbc33d0eb7f39ac",
   "metadata": {
    "ExecuteTime": {
     "end_time": "2024-12-03T02:54:16.617396Z",
     "start_time": "2024-12-03T02:54:16.615288Z"
    }
   },
   "outputs": [
    {
     "name": "stdout",
     "output_type": "stream",
     "text": [
      "3\n"
     ]
    }
   ],
   "source": [
    "print(tensor_three_d.ndim)"
   ]
  },
  {
   "cell_type": "code",
   "execution_count": null,
   "id": "2c1262e5468b91a5",
   "metadata": {
    "ExecuteTime": {
     "end_time": "2024-12-03T02:54:16.639957Z",
     "start_time": "2024-12-03T02:54:16.638598Z"
    }
   },
   "outputs": [],
   "source": []
  },
  {
   "cell_type": "code",
   "execution_count": 11,
   "id": "50ef8e033f26e171",
   "metadata": {
    "ExecuteTime": {
     "end_time": "2024-12-03T02:54:16.647036Z",
     "start_time": "2024-12-03T02:54:16.645313Z"
    }
   },
   "outputs": [],
   "source": [
    "import numpy as np"
   ]
  },
  {
   "cell_type": "code",
   "execution_count": 12,
   "id": "21e071bf035d41c5",
   "metadata": {
    "ExecuteTime": {
     "end_time": "2024-12-03T02:54:16.664323Z",
     "start_time": "2024-12-03T02:54:16.662050Z"
    }
   },
   "outputs": [
    {
     "name": "stdout",
     "output_type": "stream",
     "text": [
      "[1 2 4]\n"
     ]
    }
   ],
   "source": [
    "np_array = np.array([1,2,4])\n",
    "print(np_array)"
   ]
  },
  {
   "cell_type": "code",
   "execution_count": 13,
   "id": "6465dd42a0313761",
   "metadata": {
    "ExecuteTime": {
     "end_time": "2024-12-03T02:54:16.688526Z",
     "start_time": "2024-12-03T02:54:16.685891Z"
    }
   },
   "outputs": [
    {
     "name": "stdout",
     "output_type": "stream",
     "text": [
      "tf.Tensor([1 2 4], shape=(3,), dtype=int64)\n"
     ]
    }
   ],
   "source": [
    "converted_tensor = tf.convert_to_tensor(np_array)\n",
    "print(converted_tensor)"
   ]
  },
  {
   "cell_type": "code",
   "execution_count": 14,
   "id": "94afe337e159b9dc",
   "metadata": {
    "ExecuteTime": {
     "end_time": "2024-12-03T02:54:16.714284Z",
     "start_time": "2024-12-03T02:54:16.709625Z"
    }
   },
   "outputs": [
    {
     "name": "stdout",
     "output_type": "stream",
     "text": [
      "tf.Tensor(\n",
      "[[[[1. 0. 0. 0. 0.]\n",
      "   [0. 1. 0. 0. 0.]\n",
      "   [0. 0. 1. 0. 0.]\n",
      "   [0. 0. 0. 1. 0.]\n",
      "   [0. 0. 0. 0. 1.]]\n",
      "\n",
      "  [[1. 0. 0. 0. 0.]\n",
      "   [0. 1. 0. 0. 0.]\n",
      "   [0. 0. 1. 0. 0.]\n",
      "   [0. 0. 0. 1. 0.]\n",
      "   [0. 0. 0. 0. 1.]]\n",
      "\n",
      "  [[1. 0. 0. 0. 0.]\n",
      "   [0. 1. 0. 0. 0.]\n",
      "   [0. 0. 1. 0. 0.]\n",
      "   [0. 0. 0. 1. 0.]\n",
      "   [0. 0. 0. 0. 1.]]\n",
      "\n",
      "  [[1. 0. 0. 0. 0.]\n",
      "   [0. 1. 0. 0. 0.]\n",
      "   [0. 0. 1. 0. 0.]\n",
      "   [0. 0. 0. 1. 0.]\n",
      "   [0. 0. 0. 0. 1.]]]\n",
      "\n",
      "\n",
      " [[[1. 0. 0. 0. 0.]\n",
      "   [0. 1. 0. 0. 0.]\n",
      "   [0. 0. 1. 0. 0.]\n",
      "   [0. 0. 0. 1. 0.]\n",
      "   [0. 0. 0. 0. 1.]]\n",
      "\n",
      "  [[1. 0. 0. 0. 0.]\n",
      "   [0. 1. 0. 0. 0.]\n",
      "   [0. 0. 1. 0. 0.]\n",
      "   [0. 0. 0. 1. 0.]\n",
      "   [0. 0. 0. 0. 1.]]\n",
      "\n",
      "  [[1. 0. 0. 0. 0.]\n",
      "   [0. 1. 0. 0. 0.]\n",
      "   [0. 0. 1. 0. 0.]\n",
      "   [0. 0. 0. 1. 0.]\n",
      "   [0. 0. 0. 0. 1.]]\n",
      "\n",
      "  [[1. 0. 0. 0. 0.]\n",
      "   [0. 1. 0. 0. 0.]\n",
      "   [0. 0. 1. 0. 0.]\n",
      "   [0. 0. 0. 1. 0.]\n",
      "   [0. 0. 0. 0. 1.]]]], shape=(2, 4, 5, 5), dtype=float32)\n"
     ]
    }
   ],
   "source": [
    "eye_tensor = tf.eye(\n",
    "    num_rows=5,\n",
    "    num_columns=None,\n",
    "    batch_shape=[2, 4],\n",
    "    dtype=tf.dtypes.float32,\n",
    "    name=None\n",
    ")\n",
    "print(eye_tensor)"
   ]
  },
  {
   "cell_type": "code",
   "execution_count": 15,
   "id": "f358467b4d25d456",
   "metadata": {
    "ExecuteTime": {
     "end_time": "2024-12-03T02:54:16.734814Z",
     "start_time": "2024-12-03T02:54:16.731504Z"
    }
   },
   "outputs": [
    {
     "name": "stdout",
     "output_type": "stream",
     "text": [
      "tf.Tensor(\n",
      "[[[5 5 5 5]\n",
      "  [5 5 5 5]\n",
      "  [5 5 5 5]]], shape=(1, 3, 4), dtype=int32)\n"
     ]
    }
   ],
   "source": [
    "fill_tensor = tf.fill(\n",
    "    [1,3,4], 5, name=None\n",
    ")\n",
    "print(fill_tensor)"
   ]
  },
  {
   "cell_type": "code",
   "execution_count": 16,
   "id": "16ae9af2b9d41d04",
   "metadata": {
    "ExecuteTime": {
     "end_time": "2024-12-03T02:54:16.755327Z",
     "start_time": "2024-12-03T02:54:16.752507Z"
    }
   },
   "outputs": [
    {
     "name": "stdout",
     "output_type": "stream",
     "text": [
      "tf.Tensor(\n",
      "[[[1 1 1 1]\n",
      "  [1 1 1 1]\n",
      "  [1 1 1 1]]], shape=(1, 3, 4), dtype=int32)\n"
     ]
    }
   ],
   "source": [
    "ones_like_tensor = tf.ones_like(fill_tensor)\n",
    "print(ones_like_tensor)"
   ]
  },
  {
   "cell_type": "code",
   "execution_count": 17,
   "id": "d0d084c5a6eb260a",
   "metadata": {
    "ExecuteTime": {
     "end_time": "2024-12-03T02:54:16.778565Z",
     "start_time": "2024-12-03T02:54:16.776211Z"
    }
   },
   "outputs": [
    {
     "name": "stdout",
     "output_type": "stream",
     "text": [
      "tf.Tensor(\n",
      "[[0. 0. 0.]\n",
      " [0. 0. 0.]\n",
      " [0. 0. 0.]\n",
      " [0. 0. 0.]\n",
      " [0. 0. 0.]], shape=(5, 3), dtype=float32)\n"
     ]
    }
   ],
   "source": [
    "zeros_tensor = tf.zeros(\n",
    "    [5,3],\n",
    "    dtype=tf.dtypes.float32,\n",
    "    name=None\n",
    ")\n",
    "print(zeros_tensor)"
   ]
  },
  {
   "cell_type": "code",
   "execution_count": null,
   "id": "729859f9a45c2956",
   "metadata": {
    "ExecuteTime": {
     "end_time": "2024-12-03T02:54:16.798650Z",
     "start_time": "2024-12-03T02:54:16.797299Z"
    }
   },
   "outputs": [],
   "source": []
  },
  {
   "cell_type": "code",
   "execution_count": 18,
   "id": "57c5580506765e28",
   "metadata": {
    "ExecuteTime": {
     "end_time": "2024-12-03T02:54:16.814724Z",
     "start_time": "2024-12-03T02:54:16.809834Z"
    }
   },
   "outputs": [
    {
     "name": "stdout",
     "output_type": "stream",
     "text": [
      "tf.Tensor(\n",
      "[[ 99.819695  99.04971 ]\n",
      " [ 99.96036   99.25746 ]\n",
      " [101.32315   99.381454]], shape=(3, 2), dtype=float32)\n"
     ]
    }
   ],
   "source": [
    "random_tensor = tf.random.normal(\n",
    "    [3,2],\n",
    "    mean=100.0,\n",
    "    stddev=1.0,\n",
    "    dtype=tf.dtypes.float32,\n",
    "    seed=None,\n",
    "    name=None\n",
    ")\n",
    "print(random_tensor)"
   ]
  },
  {
   "cell_type": "code",
   "execution_count": null,
   "id": "a407c847a7ae1e51",
   "metadata": {
    "ExecuteTime": {
     "end_time": "2024-12-03T02:54:16.833311Z",
     "start_time": "2024-12-03T02:54:16.831842Z"
    }
   },
   "outputs": [],
   "source": []
  },
  {
   "cell_type": "code",
   "execution_count": 19,
   "id": "773102462fa95bbe",
   "metadata": {
    "ExecuteTime": {
     "end_time": "2024-12-03T02:54:16.842307Z",
     "start_time": "2024-12-03T02:54:16.839475Z"
    }
   },
   "outputs": [
    {
     "name": "stdout",
     "output_type": "stream",
     "text": [
      "tf.Tensor(\n",
      "[[597 764 960 558  70]\n",
      " [817 340 143 777 334]\n",
      " [632 429 283 664 894]\n",
      " [120 292 511 585 171]\n",
      " [601 294 650 406 833]], shape=(5, 5), dtype=int32)\n"
     ]
    }
   ],
   "source": [
    "random_tensor = tf.random.uniform(\n",
    "    [5,5],\n",
    "    minval=0,\n",
    "    maxval=1000,\n",
    "    dtype=tf.dtypes.int32,\n",
    "    seed=None,\n",
    "    name=None\n",
    ")\n",
    "print(random_tensor)"
   ]
  },
  {
   "cell_type": "code",
   "execution_count": null,
   "id": "51607cc8c4f4e7ec",
   "metadata": {
    "ExecuteTime": {
     "end_time": "2024-12-03T02:54:16.859787Z",
     "start_time": "2024-12-03T02:54:16.858049Z"
    }
   },
   "outputs": [],
   "source": []
  },
  {
   "cell_type": "code",
   "execution_count": 20,
   "id": "ad3219525d986e43",
   "metadata": {
    "ExecuteTime": {
     "end_time": "2024-12-03T02:54:16.870734Z",
     "start_time": "2024-12-03T02:54:16.865556Z"
    }
   },
   "outputs": [
    {
     "name": "stdout",
     "output_type": "stream",
     "text": [
      "tf.Tensor([ 3  6  2  4  6 66  7], shape=(7,), dtype=int32)\n",
      "tf.Tensor([3 6 2 4], shape=(4,), dtype=int32)\n",
      "tf.Tensor([ 4  6 66  7], shape=(4,), dtype=int32)\n"
     ]
    }
   ],
   "source": [
    "tensor_indexed = tf.constant([3, 6, 2, 4, 6, 66, 7])\n",
    "print(tensor_indexed)\n",
    "print(tensor_indexed[0:4])\n",
    "print(tensor_indexed[3:])"
   ]
  },
  {
   "cell_type": "code",
   "execution_count": 21,
   "id": "dbca58704f350c5c",
   "metadata": {
    "ExecuteTime": {
     "end_time": "2024-12-03T02:54:16.890743Z",
     "start_time": "2024-12-03T02:54:16.886275Z"
    }
   },
   "outputs": [
    {
     "data": {
      "text/plain": [
       "<tf.Tensor: shape=(4,), dtype=int32, numpy=array([2, 3, 4, 5], dtype=int32)>"
      ]
     },
     "execution_count": 21,
     "metadata": {},
     "output_type": "execute_result"
    }
   ],
   "source": [
    "tf.range(2,6)"
   ]
  },
  {
   "cell_type": "code",
   "execution_count": 22,
   "id": "95e35ab5a686012e",
   "metadata": {
    "ExecuteTime": {
     "end_time": "2024-12-03T02:54:16.918030Z",
     "start_time": "2024-12-03T02:54:16.914582Z"
    }
   },
   "outputs": [
    {
     "name": "stdout",
     "output_type": "stream",
     "text": [
      "tf.Tensor([2 5 5 3], shape=(4,), dtype=int32)\n"
     ]
    }
   ],
   "source": [
    "tensor_two_d = tf.constant([\n",
    "    [1, 2, 0],\n",
    "    [3, 5, -1],\n",
    "    [1, 5, 6],\n",
    "    [2, 3, 8]\n",
    "])\n",
    "print(tensor_two_d[:,1])"
   ]
  },
  {
   "cell_type": "code",
   "execution_count": 23,
   "id": "42f34df6662de382",
   "metadata": {
    "ExecuteTime": {
     "end_time": "2024-12-03T02:54:16.942130Z",
     "start_time": "2024-12-03T02:54:16.937768Z"
    }
   },
   "outputs": [
    {
     "name": "stdout",
     "output_type": "stream",
     "text": [
      "tf.Tensor([1 2 0], shape=(3,), dtype=int32)\n"
     ]
    }
   ],
   "source": [
    "tensor_three_d = tf.constant([\n",
    " [[1,2,0],\n",
    "  [3,5,-1]],\n",
    "\n",
    " [[10,2,0],\n",
    "  [1,0,2]],\n",
    "\n",
    " [[5,8,0],\n",
    "  [2,7,0]],\n",
    "\n",
    " [[2,1,9],\n",
    "  [4,-3,32]]\n",
    "])\n",
    "print(tensor_three_d[0, 0, :])"
   ]
  },
  {
   "cell_type": "code",
   "execution_count": 24,
   "id": "548b2e5c50f4e587",
   "metadata": {
    "ExecuteTime": {
     "end_time": "2024-12-03T02:54:16.962442Z",
     "start_time": "2024-12-03T02:54:16.959521Z"
    }
   },
   "outputs": [
    {
     "data": {
      "text/plain": [
       "<tf.Tensor: shape=(2,), dtype=float32, numpy=array([2.25, 3.25], dtype=float32)>"
      ]
     },
     "execution_count": 24,
     "metadata": {},
     "output_type": "execute_result"
    }
   ],
   "source": [
    "x_abs = tf.constant([-2.25, 3.25])\n",
    "tf.abs(x_abs)"
   ]
  },
  {
   "cell_type": "code",
   "execution_count": 25,
   "id": "2d5bf1fcbc9b5620",
   "metadata": {
    "ExecuteTime": {
     "end_time": "2024-12-03T02:54:16.985844Z",
     "start_time": "2024-12-03T02:54:16.983037Z"
    }
   },
   "outputs": [
    {
     "data": {
      "text/plain": [
       "<tf.Tensor: shape=(), dtype=float32, numpy=0.2>"
      ]
     },
     "execution_count": 25,
     "metadata": {},
     "output_type": "execute_result"
    }
   ],
   "source": [
    "tf.abs(tf.constant(-0.2))"
   ]
  },
  {
   "cell_type": "code",
   "execution_count": 26,
   "id": "cf832a3487538766",
   "metadata": {
    "ExecuteTime": {
     "end_time": "2024-12-03T02:54:17.007052Z",
     "start_time": "2024-12-03T02:54:17.003348Z"
    }
   },
   "outputs": [
    {
     "data": {
      "text/plain": [
       "<tf.Tensor: shape=(1, 1), dtype=float64, numpy=array([[5.25594901]])>"
      ]
     },
     "execution_count": 26,
     "metadata": {},
     "output_type": "execute_result"
    }
   ],
   "source": [
    "x_abs_complex = tf.constant([[-2.25 + 4.75j]])\n",
    "tf.abs(x_abs_complex)"
   ]
  },
  {
   "cell_type": "code",
   "execution_count": 27,
   "id": "4acdb26dde0e6804",
   "metadata": {
    "ExecuteTime": {
     "end_time": "2024-12-03T02:54:18.003821Z",
     "start_time": "2024-12-03T02:54:18.001266Z"
    }
   },
   "outputs": [
    {
     "data": {
      "text/plain": [
       "<tf.Tensor: shape=(), dtype=float32, numpy=5.255949>"
      ]
     },
     "execution_count": 27,
     "metadata": {},
     "output_type": "execute_result"
    }
   ],
   "source": [
    "tf.sqrt((-2.25)**2 + 4.75**2)"
   ]
  },
  {
   "cell_type": "code",
   "execution_count": 28,
   "id": "6c6f878f0791464b",
   "metadata": {
    "ExecuteTime": {
     "end_time": "2024-12-03T02:54:18.011942Z",
     "start_time": "2024-12-03T02:54:18.008967Z"
    }
   },
   "outputs": [
    {
     "name": "stdout",
     "output_type": "stream",
     "text": [
      "(1, 6)\n",
      "(3, 1)\n",
      "tf.Tensor(\n",
      "[[35. 21. 42. 42. 28. 42.]\n",
      " [25. 15. 30. 30. 20. 30.]\n",
      " [15.  9. 18. 18. 12. 18.]], shape=(3, 6), dtype=float32)\n"
     ]
    }
   ],
   "source": [
    "x_1 = tf.constant([[5, 3, 6, 6, 4, 6]], dtype = tf.float32)\n",
    "x_2 = tf.constant([[7], [5], [3]], dtype = tf.float32)\n",
    "\n",
    "print(x_1.shape)\n",
    "print(x_2.shape)\n",
    "print(tf.multiply(x_1, x_2))"
   ]
  },
  {
   "cell_type": "code",
   "execution_count": 29,
   "id": "8d3e985e41327fc5",
   "metadata": {
    "ExecuteTime": {
     "end_time": "2024-12-03T02:54:18.160679Z",
     "start_time": "2024-12-03T02:54:18.156979Z"
    }
   },
   "outputs": [
    {
     "name": "stdout",
     "output_type": "stream",
     "text": [
      "(3, 5)\n",
      "tf.Tensor([0 3 3], shape=(3,), dtype=int64)\n"
     ]
    }
   ],
   "source": [
    "x_argmax = tf.constant([[2, 20, 30, 3, 6], \n",
    "                        [3, 11, 16, 1, 8],\n",
    "                        [14, 45, 23, 5, 27]])\n",
    "\n",
    "print(x_argmax.shape)\n",
    "print(tf.math.argmin(x_argmax, axis = 1))"
   ]
  },
  {
   "cell_type": "code",
   "execution_count": 30,
   "id": "995072784e0cf0ae",
   "metadata": {
    "ExecuteTime": {
     "end_time": "2024-12-03T02:54:18.337883Z",
     "start_time": "2024-12-03T02:54:18.335464Z"
    }
   },
   "outputs": [
    {
     "name": "stdout",
     "output_type": "stream",
     "text": [
      "tf.Tensor(3, shape=(), dtype=int64)\n"
     ]
    }
   ],
   "source": [
    "x_argmax = tf.constant([200, 120, 130, 3, 6])\n",
    "print(tf.math.argmin(x_argmax))"
   ]
  },
  {
   "cell_type": "code",
   "execution_count": 31,
   "id": "756e4d061e36b802",
   "metadata": {
    "ExecuteTime": {
     "end_time": "2024-12-03T02:54:18.383970Z",
     "start_time": "2024-12-03T02:54:18.381327Z"
    }
   },
   "outputs": [
    {
     "name": "stdout",
     "output_type": "stream",
     "text": [
      "tf.Tensor(4, shape=(), dtype=int64)\n"
     ]
    }
   ],
   "source": [
    "x_argmax = tf.constant([200, 120, 130, 300, 6])\n",
    "print(tf.math.argmin(x_argmax))"
   ]
  },
  {
   "cell_type": "code",
   "execution_count": 32,
   "id": "f4f350970115650f",
   "metadata": {
    "ExecuteTime": {
     "end_time": "2024-12-03T02:54:18.410450Z",
     "start_time": "2024-12-03T02:54:18.406928Z"
    }
   },
   "outputs": [
    {
     "data": {
      "text/plain": [
       "<tf.Tensor: shape=(2, 2), dtype=int32, numpy=\n",
       "array([[ 8,  1],\n",
       "       [ 3, 81]], dtype=int32)>"
      ]
     },
     "execution_count": 32,
     "metadata": {},
     "output_type": "execute_result"
    }
   ],
   "source": [
    "x = tf.constant([[2, 2], [3, 3]])\n",
    "y = tf.constant([[3, 0], [1, 4]])\n",
    "tf.pow(x, y) # [[256, 65536], [9, 27]]"
   ]
  },
  {
   "cell_type": "code",
   "execution_count": 33,
   "id": "7716ed07eaf05c11",
   "metadata": {
    "ExecuteTime": {
     "end_time": "2024-12-03T02:54:18.446224Z",
     "start_time": "2024-12-03T02:54:18.443473Z"
    }
   },
   "outputs": [
    {
     "data": {
      "text/plain": [
       "<tf.Tensor: shape=(), dtype=int32, numpy=8>"
      ]
     },
     "execution_count": 33,
     "metadata": {},
     "output_type": "execute_result"
    }
   ],
   "source": [
    "tf.pow(tf.constant(2), tf.constant(3))"
   ]
  },
  {
   "cell_type": "code",
   "execution_count": 34,
   "id": "5188f4baba9e35a9",
   "metadata": {
    "ExecuteTime": {
     "end_time": "2024-12-03T02:54:18.488692Z",
     "start_time": "2024-12-03T02:54:18.483079Z"
    }
   },
   "outputs": [
    {
     "name": "stdout",
     "output_type": "stream",
     "text": [
      "(4, 3)\n",
      "tf.Tensor([[ 0.829  2.861 41.38 ]], shape=(1, 3), dtype=float16)\n"
     ]
    }
   ],
   "source": [
    "tensor_two_d = tf.constant([[1,-2,0],\n",
    "                            [3,5,100],\n",
    "                            [1,5,6],\n",
    "                            [2,3,8]], dtype=tf.float16)\n",
    "\n",
    "print(tensor_two_d.shape)\n",
    "\n",
    "print(tf.math.reduce_std(tensor_two_d, axis=0, keepdims=True, name=None))"
   ]
  },
  {
   "cell_type": "code",
   "execution_count": 35,
   "id": "53f093bea651f7e",
   "metadata": {
    "ExecuteTime": {
     "end_time": "2024-12-03T02:54:18.568096Z",
     "start_time": "2024-12-03T02:54:18.563850Z"
    }
   },
   "outputs": [
    {
     "data": {
      "text/plain": [
       "TopKV2(values=<tf.Tensor: shape=(4, 1), dtype=float16, numpy=\n",
       "array([[  1.],\n",
       "       [100.],\n",
       "       [  6.],\n",
       "       [  8.]], dtype=float16)>, indices=<tf.Tensor: shape=(4, 1), dtype=int32, numpy=\n",
       "array([[0],\n",
       "       [2],\n",
       "       [2],\n",
       "       [2]], dtype=int32)>)"
      ]
     },
     "execution_count": 35,
     "metadata": {},
     "output_type": "execute_result"
    }
   ],
   "source": [
    "tf.math.top_k(tensor_two_d, k = 1)"
   ]
  },
  {
   "cell_type": "code",
   "execution_count": 36,
   "id": "30cf8f9c58a074c1",
   "metadata": {
    "ExecuteTime": {
     "end_time": "2024-12-03T02:54:27.802555Z",
     "start_time": "2024-12-03T02:54:27.777654Z"
    }
   },
   "outputs": [
    {
     "name": "stdout",
     "output_type": "stream",
     "text": [
      "(1, 3) (3, 4) (2, 4) (4, 3)\n",
      "tf.Tensor(\n",
      "[[ 9 17 14]\n",
      " [17 39 31]], shape=(2, 3), dtype=int32)\n"
     ]
    },
    {
     "name": "stderr",
     "output_type": "stream",
     "text": [
      "2024-12-03 22:43:32.087381: I tensorflow/core/framework/local_rendezvous.cc:404] Local rendezvous is aborting with status: INVALID_ARGUMENT: Matrix size-incompatible: In[0]: [2,4], In[1]: [3,4]\n"
     ]
    },
    {
     "ename": "InvalidArgumentError",
     "evalue": "{{function_node __wrapped__MatMul_device_/job:localhost/replica:0/task:0/device:CPU:0}} Matrix size-incompatible: In[0]: [2,4], In[1]: [3,4] [Op:MatMul] name: ",
     "output_type": "error",
     "traceback": [
      "\u001b[0;31m---------------------------------------------------------------------------\u001b[0m",
      "\u001b[0;31mInvalidArgumentError\u001b[0m                      Traceback (most recent call last)",
      "Cell \u001b[0;32mIn[36], line 14\u001b[0m\n\u001b[1;32m     12\u001b[0m x_2\u001b[38;5;241m.\u001b[39mT \u001b[38;5;241m=\u001b[39m \u001b[38;5;241m4\u001b[39m,\u001b[38;5;241m3\u001b[39m\n\u001b[1;32m     13\u001b[0m \u001b[38;5;28mprint\u001b[39m(x_3\u001b[38;5;129m@tf\u001b[39m\u001b[38;5;241m.\u001b[39mtranspose(x_2))\n\u001b[0;32m---> 14\u001b[0m tf\u001b[38;5;241m.\u001b[39mlinalg\u001b[38;5;241m.\u001b[39mmatmul(\n\u001b[1;32m     15\u001b[0m     x_3, x_2, transpose_a\u001b[38;5;241m=\u001b[39m\u001b[38;5;28;01mTrue\u001b[39;00m, transpose_b\u001b[38;5;241m=\u001b[39m\u001b[38;5;28;01mTrue\u001b[39;00m, adjoint_a\u001b[38;5;241m=\u001b[39m\u001b[38;5;28;01mFalse\u001b[39;00m, adjoint_b\u001b[38;5;241m=\u001b[39m\u001b[38;5;28;01mFalse\u001b[39;00m,\n\u001b[1;32m     16\u001b[0m     a_is_sparse\u001b[38;5;241m=\u001b[39m\u001b[38;5;28;01mFalse\u001b[39;00m, b_is_sparse\u001b[38;5;241m=\u001b[39m\u001b[38;5;28;01mFalse\u001b[39;00m, output_type\u001b[38;5;241m=\u001b[39m\u001b[38;5;28;01mNone\u001b[39;00m, name\u001b[38;5;241m=\u001b[39m\u001b[38;5;28;01mNone\u001b[39;00m\n\u001b[1;32m     17\u001b[0m )\n",
      "File \u001b[0;32m~/anaconda3/envs/LearnComputerVision/lib/python3.12/site-packages/tensorflow/python/ops/weak_tensor_ops.py:142\u001b[0m, in \u001b[0;36mweak_tensor_binary_op_wrapper.<locals>.wrapper\u001b[0;34m(*args, **kwargs)\u001b[0m\n\u001b[1;32m    140\u001b[0m \u001b[38;5;28;01mdef\u001b[39;00m \u001b[38;5;21mwrapper\u001b[39m(\u001b[38;5;241m*\u001b[39margs, \u001b[38;5;241m*\u001b[39m\u001b[38;5;241m*\u001b[39mkwargs):\n\u001b[1;32m    141\u001b[0m   \u001b[38;5;28;01mif\u001b[39;00m \u001b[38;5;129;01mnot\u001b[39;00m ops\u001b[38;5;241m.\u001b[39mis_auto_dtype_conversion_enabled():\n\u001b[0;32m--> 142\u001b[0m     \u001b[38;5;28;01mreturn\u001b[39;00m op(\u001b[38;5;241m*\u001b[39margs, \u001b[38;5;241m*\u001b[39m\u001b[38;5;241m*\u001b[39mkwargs)\n\u001b[1;32m    143\u001b[0m   bound_arguments \u001b[38;5;241m=\u001b[39m signature\u001b[38;5;241m.\u001b[39mbind(\u001b[38;5;241m*\u001b[39margs, \u001b[38;5;241m*\u001b[39m\u001b[38;5;241m*\u001b[39mkwargs)\n\u001b[1;32m    144\u001b[0m   bound_arguments\u001b[38;5;241m.\u001b[39mapply_defaults()\n",
      "File \u001b[0;32m~/anaconda3/envs/LearnComputerVision/lib/python3.12/site-packages/tensorflow/python/util/traceback_utils.py:153\u001b[0m, in \u001b[0;36mfilter_traceback.<locals>.error_handler\u001b[0;34m(*args, **kwargs)\u001b[0m\n\u001b[1;32m    151\u001b[0m \u001b[38;5;28;01mexcept\u001b[39;00m \u001b[38;5;167;01mException\u001b[39;00m \u001b[38;5;28;01mas\u001b[39;00m e:\n\u001b[1;32m    152\u001b[0m   filtered_tb \u001b[38;5;241m=\u001b[39m _process_traceback_frames(e\u001b[38;5;241m.\u001b[39m__traceback__)\n\u001b[0;32m--> 153\u001b[0m   \u001b[38;5;28;01mraise\u001b[39;00m e\u001b[38;5;241m.\u001b[39mwith_traceback(filtered_tb) \u001b[38;5;28;01mfrom\u001b[39;00m \u001b[38;5;28;01mNone\u001b[39;00m\n\u001b[1;32m    154\u001b[0m \u001b[38;5;28;01mfinally\u001b[39;00m:\n\u001b[1;32m    155\u001b[0m   \u001b[38;5;28;01mdel\u001b[39;00m filtered_tb\n",
      "File \u001b[0;32m~/anaconda3/envs/LearnComputerVision/lib/python3.12/site-packages/tensorflow/python/framework/ops.py:5983\u001b[0m, in \u001b[0;36mraise_from_not_ok_status\u001b[0;34m(e, name)\u001b[0m\n\u001b[1;32m   5981\u001b[0m \u001b[38;5;28;01mdef\u001b[39;00m \u001b[38;5;21mraise_from_not_ok_status\u001b[39m(e, name) \u001b[38;5;241m-\u001b[39m\u001b[38;5;241m>\u001b[39m NoReturn:\n\u001b[1;32m   5982\u001b[0m   e\u001b[38;5;241m.\u001b[39mmessage \u001b[38;5;241m+\u001b[39m\u001b[38;5;241m=\u001b[39m (\u001b[38;5;124m\"\u001b[39m\u001b[38;5;124m name: \u001b[39m\u001b[38;5;124m\"\u001b[39m \u001b[38;5;241m+\u001b[39m \u001b[38;5;28mstr\u001b[39m(name \u001b[38;5;28;01mif\u001b[39;00m name \u001b[38;5;129;01mis\u001b[39;00m \u001b[38;5;129;01mnot\u001b[39;00m \u001b[38;5;28;01mNone\u001b[39;00m \u001b[38;5;28;01melse\u001b[39;00m \u001b[38;5;124m\"\u001b[39m\u001b[38;5;124m\"\u001b[39m))\n\u001b[0;32m-> 5983\u001b[0m   \u001b[38;5;28;01mraise\u001b[39;00m core\u001b[38;5;241m.\u001b[39m_status_to_exception(e) \u001b[38;5;28;01mfrom\u001b[39;00m \u001b[38;5;28;01mNone\u001b[39;00m\n",
      "\u001b[0;31mInvalidArgumentError\u001b[0m: {{function_node __wrapped__MatMul_device_/job:localhost/replica:0/task:0/device:CPU:0}} Matrix size-incompatible: In[0]: [2,4], In[1]: [3,4] [Op:MatMul] name: "
     ]
    }
   ],
   "source": [
    "x_1 = tf.constant([[1, 2, 0]])\n",
    "\n",
    "x_2 = tf.constant([[1, 2, 0, 2],\n",
    "                   [3, 5, -1, 2],\n",
    "                   [4, 5, 6, 0]])\n",
    "\n",
    "x_3 = tf.constant([[1, 2, 0, 2],\n",
    "                   [3, 5, -1, 2]])\n",
    "\n",
    "print(x_1.shape, x_2.shape, x_3.shape, tf.transpose(x_2).shape)\n",
    "x_3.T = 4,2\n",
    "x_2.T = 4,3\n",
    "print(x_3@tf.transpose(x_2))\n",
    "tf.linalg.matmul(\n",
    "    x_3, x_2, transpose_a=True, transpose_b=True, adjoint_a=False, adjoint_b=False,\n",
    "    a_is_sparse=False, b_is_sparse=False, output_type=None, name=None\n",
    ")"
   ]
  },
  {
   "cell_type": "code",
   "execution_count": null,
   "id": "dad8269f3ccd3004",
   "metadata": {
    "ExecuteTime": {
     "end_time": "2024-12-03T02:54:19.056032Z",
     "start_time": "2024-11-27T03:01:17.269913Z"
    }
   },
   "outputs": [],
   "source": [
    "x_1@x_2 "
   ]
  },
  {
   "cell_type": "code",
   "execution_count": null,
   "id": "afb115a51bbfd94e",
   "metadata": {
    "ExecuteTime": {
     "end_time": "2024-12-03T02:54:19.068160Z",
     "start_time": "2024-11-27T03:02:44.492625Z"
    }
   },
   "outputs": [],
   "source": [
    "tf.transpose(x_2)"
   ]
  },
  {
   "cell_type": "code",
   "execution_count": null,
   "id": "86970df9fbd3a20d",
   "metadata": {
    "ExecuteTime": {
     "end_time": "2024-12-03T02:54:19.069523Z",
     "start_time": "2024-11-27T03:02:47.293367Z"
    }
   },
   "outputs": [],
   "source": [
    "print(x_2)"
   ]
  },
  {
   "cell_type": "code",
   "execution_count": null,
   "id": "4db2f60565d8cbbd",
   "metadata": {
    "ExecuteTime": {
     "end_time": "2024-12-03T02:54:25.170901Z",
     "start_time": "2024-12-03T02:54:25.166411Z"
    }
   },
   "outputs": [],
   "source": [
    "tensor_two_d = tf.constant([[1,-2,0],\n",
    "                            [3,5,100],\n",
    "                            [1,5,6],\n",
    "                            [2,3,8]], dtype=tf.float32)\n",
    "\n",
    "###  (lower<0 or m-n <= lower) and (upper<0 or n-m <= upper)\n",
    "\n",
    "tf.linalg.band_part(tensor_two_d, 0, 0)"
   ]
  },
  {
   "cell_type": "code",
   "execution_count": null,
   "id": "6ccc5cbd33c73229",
   "metadata": {
    "ExecuteTime": {
     "end_time": "2024-12-03T02:54:19.070297Z",
     "start_time": "2024-11-29T00:42:41.308554Z"
    }
   },
   "outputs": [],
   "source": [
    "tensor_two_d = tf.constant([[1,-2,0],\n",
    "                            [3,5,100],\n",
    "                            [1,5,6]], dtype=tf.float32)\n",
    "\n",
    "tensor_two_d_inv = tf.linalg.inv(tensor_two_d)"
   ]
  },
  {
   "cell_type": "code",
   "execution_count": null,
   "id": "4c726f93c5e46a70",
   "metadata": {
    "ExecuteTime": {
     "end_time": "2024-12-03T02:54:19.070504Z",
     "start_time": "2024-11-29T00:42:42.357859Z"
    }
   },
   "outputs": [],
   "source": [
    "tensor_two_d@tensor_two_d_inv"
   ]
  },
  {
   "cell_type": "code",
   "execution_count": null,
   "id": "6838896e57181b6c",
   "metadata": {
    "ExecuteTime": {
     "end_time": "2024-12-03T02:54:19.077560Z",
     "start_time": "2024-11-29T00:43:03.686939Z"
    }
   },
   "outputs": [],
   "source": [
    "s, u, v = tf.linalg.svd(tensor_two_d)\n",
    "print(s)\n",
    "print(u)"
   ]
  },
  {
   "cell_type": "code",
   "execution_count": null,
   "id": "a2e9dfb5da6685ac",
   "metadata": {},
   "outputs": [],
   "source": [
    "tensor_three_d = tf.constant([[[1,2,0],\n",
    "                               [3,5,-1]],\n",
    "\n",
    "                             [[10,2,0],\n",
    "                              [1,0,2]],\n",
    "\n",
    "                             [[5,8,0],\n",
    "                              [2,7,0]],\n",
    "\n",
    "                             [[2,1,9],\n",
    "                              [4,-3,32]]])\n",
    "\n",
    "print(tensor_three_d.shape)\n",
    "x_exp = tf.expand_dims(tensor_three_d, axis = 3)\n",
    "print(x_exp.shape)\n",
    "print(tf.squeeze(x_exp, axis = 3))\n",
    "print(tf.reshape(x_exp, [4,2,3]))"
   ]
  },
  {
   "cell_type": "code",
   "execution_count": null,
   "id": "064280f2-5389-43f0-b04b-008da057ca81",
   "metadata": {},
   "outputs": [],
   "source": [
    "x = tf.constant([[[2,3,4,5]]])\n",
    "print(x.shape)\n",
    "x_expanded = tf.expand_dims(x, axis = 0)\n",
    "print(x_expanded)"
   ]
  },
  {
   "cell_type": "code",
   "execution_count": null,
   "id": "748665c7-85c9-4808-a52c-ac47a955b6f3",
   "metadata": {},
   "outputs": [],
   "source": [
    "x_squeezed = tf.squeeze(x_expanded, axis = 0)\n",
    "for i in range(2):\n",
    "    x_squeezed = tf.squeeze(x_squeezed, axis = 0)\n",
    "\n",
    "print(x_squeezed)"
   ]
  },
  {
   "cell_type": "code",
   "execution_count": null,
   "id": "c5c23b94-77c7-4778-b0ea-555870104a32",
   "metadata": {},
   "outputs": [],
   "source": [
    "x_reshape = tf.constant([[3,5,6,6],\n",
    "                         [4,6,-1,2]])\n",
    "\n",
    "print(tf.reshape(x_reshape, [-1]))\n",
    "print(tf.reshape(x_reshape, [8]))"
   ]
  },
  {
   "cell_type": "code",
   "execution_count": null,
   "id": "c5924aa4-03bc-4fed-a0fa-2364f8600db3",
   "metadata": {},
   "outputs": [],
   "source": [
    "tf.transpose(x_reshape)"
   ]
  },
  {
   "cell_type": "code",
   "execution_count": 69,
   "id": "5cbe6920-b005-4890-aada-f6cd45c39c0c",
   "metadata": {},
   "outputs": [
    {
     "name": "stdout",
     "output_type": "stream",
     "text": [
      "(2, 3)\n",
      "(2, 3)\n"
     ]
    },
    {
     "data": {
      "text/plain": [
       "<tf.Tensor: shape=(2, 6), dtype=int32, numpy=\n",
       "array([[ 1,  2,  3,  7,  8,  9],\n",
       "       [ 4,  5,  6, 10, 11, 12]], dtype=int32)>"
      ]
     },
     "execution_count": 69,
     "metadata": {},
     "output_type": "execute_result"
    }
   ],
   "source": [
    "t1 = [[1, 2, 3],\n",
    "      [4, 5, 6]]\n",
    "\n",
    "t2 = [[7, 8, 9],\n",
    "      [10, 11, 12]]\n",
    "\n",
    "print(tf.constant(t1).shape)\n",
    "print(tf.constant(t2).shape)\n",
    "\n",
    "tf.concat([t1, t2], axis = 1)"
   ]
  },
  {
   "cell_type": "code",
   "execution_count": 70,
   "id": "eb042abe-76f6-44ce-bc74-0e69b5bde1d0",
   "metadata": {},
   "outputs": [
    {
     "data": {
      "text/plain": [
       "<tf.Tensor: shape=(2, 2, 3), dtype=int32, numpy=\n",
       "array([[[ 1,  2,  3],\n",
       "        [ 4,  5,  6]],\n",
       "\n",
       "       [[ 7,  8,  9],\n",
       "        [10, 11, 12]]], dtype=int32)>"
      ]
     },
     "execution_count": 70,
     "metadata": {},
     "output_type": "execute_result"
    }
   ],
   "source": [
    "tf.stack([t1,t2], axis = 0)"
   ]
  },
  {
   "cell_type": "code",
   "execution_count": 71,
   "id": "077ee731-d1b9-49a9-9502-23e9c740bf41",
   "metadata": {
    "ExecuteTime": {
     "end_time": "2024-12-04T03:43:17.424266Z",
     "start_time": "2024-12-04T03:43:17.235315Z"
    }
   },
   "outputs": [
    {
     "data": {
      "text/plain": [
       "<tf.Tensor: shape=(8, 8), dtype=int32, numpy=\n",
       "array([[0, 0, 0, 0, 0, 0, 0, 0],\n",
       "       [0, 0, 1, 2, 3, 0, 0, 0],\n",
       "       [0, 0, 4, 5, 6, 0, 0, 0],\n",
       "       [0, 0, 0, 0, 0, 0, 0, 0],\n",
       "       [0, 0, 0, 0, 0, 0, 0, 0],\n",
       "       [0, 0, 0, 0, 0, 0, 0, 0],\n",
       "       [0, 0, 0, 0, 0, 0, 0, 0],\n",
       "       [0, 0, 0, 0, 0, 0, 0, 0]], dtype=int32)>"
      ]
     },
     "execution_count": 71,
     "metadata": {},
     "output_type": "execute_result"
    }
   ],
   "source": [
    "t = tf.constant([[1, 2, 3], [4, 5, 6]])\n",
    "paddings = tf.constant([[1, 5], \n",
    "                        [2, 3]])\n",
    "\n",
    "tf.pad(t, paddings, \"CONSTANT\", constant_values = 0)"
   ]
  },
  {
   "cell_type": "code",
   "execution_count": 72,
   "id": "2c23448b431607cf",
   "metadata": {},
   "outputs": [
    {
     "name": "stdout",
     "output_type": "stream",
     "text": [
      "(6,)\n"
     ]
    },
    {
     "data": {
      "text/plain": [
       "<tf.Tensor: shape=(3,), dtype=string, numpy=array([b'p1', b'p2', b'p3'], dtype=object)>"
      ]
     },
     "execution_count": 72,
     "metadata": {},
     "output_type": "execute_result"
    }
   ],
   "source": [
    "params = tf.constant(['p0', 'p1', 'p2', 'p3', 'p4', 'p5'])\n",
    "print(params.shape)\n",
    "params[1:3+1]"
   ]
  },
  {
   "cell_type": "code",
   "execution_count": 73,
   "id": "6764e9cb-ef4a-41f7-83da-20539c3e238d",
   "metadata": {},
   "outputs": [
    {
     "data": {
      "text/plain": [
       "<tf.Tensor: shape=(3,), dtype=string, numpy=array([b'p0', b'p5', b'p3'], dtype=object)>"
      ]
     },
     "execution_count": 73,
     "metadata": {},
     "output_type": "execute_result"
    }
   ],
   "source": [
    "tf.gather(params, [0,5,3], axis = 0)"
   ]
  },
  {
   "cell_type": "code",
   "execution_count": 80,
   "id": "6ccbe8b8-2df0-4f79-8f07-51cc5821861a",
   "metadata": {},
   "outputs": [
    {
     "name": "stdout",
     "output_type": "stream",
     "text": [
      "(2, 4, 3)\n"
     ]
    },
    {
     "data": {
      "text/plain": [
       "<tf.Tensor: shape=(2, 2, 3), dtype=float32, numpy=\n",
       "array([[[20., 21., 22.],\n",
       "        [ 0.,  1.,  2.]],\n",
       "\n",
       "       [[ 0.,  5., 55.],\n",
       "        [ 3.,  1., 21.]]], dtype=float32)>"
      ]
     },
     "execution_count": 80,
     "metadata": {},
     "output_type": "execute_result"
    }
   ],
   "source": [
    "params = tf.constant([\n",
    "    \n",
    "                      [[0, 1.0, 2.0],\n",
    "                      [10.0, 11.0, 12.0],\n",
    "                      [20.0, 21.0, 22.0],\n",
    "                      [30.0, 31.0, 32.0]],\n",
    "\n",
    "                      [[3, 1.0, 21],\n",
    "                      [1, 3, 88],\n",
    "                      [0, 5, 55],\n",
    "                      [0, 2, 30]]\n",
    "\n",
    "                      ])\n",
    "print(params.shape)\n",
    "tf.gather(params, [2, 0], axis = 1)"
   ]
  },
  {
   "cell_type": "code",
   "execution_count": 89,
   "id": "62e215f7-56e7-4f3d-8221-ada69dd3626e",
   "metadata": {},
   "outputs": [
    {
     "data": {
      "text/plain": [
       "<tf.Tensor: shape=(), dtype=string, numpy=b'f'>"
      ]
     },
     "execution_count": 89,
     "metadata": {},
     "output_type": "execute_result"
    }
   ],
   "source": [
    "indices = [2,1]\n",
    "\n",
    "params = [['a', 'b'],\n",
    "          ['c', 'd'],\n",
    "          ['e', 'f']]\n",
    "\n",
    "tf.gather_nd(params, indices)"
   ]
  },
  {
   "cell_type": "code",
   "execution_count": 91,
   "id": "9840e897-99bf-49d0-89a0-d41bb2a68c38",
   "metadata": {},
   "outputs": [
    {
     "data": {
      "text/plain": [
       "<tf.Tensor: shape=(2, 2), dtype=string, numpy=\n",
       "array([[b'c0', b'd0'],\n",
       "       [b'a1', b'b1']], dtype=object)>"
      ]
     },
     "execution_count": 91,
     "metadata": {},
     "output_type": "execute_result"
    }
   ],
   "source": [
    "indices = [[0, 1], [1, 0]]\n",
    "\n",
    "params = [[['a0', 'b0'],\n",
    "           ['c0', 'd0']],\n",
    "\n",
    "          [['a1', 'b1'],\n",
    "           ['c1', 'd1']]]\n",
    "\n",
    "tf.gather_nd(params, indices)"
   ]
  },
  {
   "cell_type": "code",
   "execution_count": null,
   "id": "cf65ea35-2df3-4ed7-86dd-1484f1e604a6",
   "metadata": {},
   "outputs": [],
   "source": []
  }
 ],
 "metadata": {
  "kernelspec": {
   "display_name": "Python 3 (ipykernel)",
   "language": "python",
   "name": "python3"
  },
  "language_info": {
   "codemirror_mode": {
    "name": "ipython",
    "version": 3
   },
   "file_extension": ".py",
   "mimetype": "text/x-python",
   "name": "python",
   "nbconvert_exporter": "python",
   "pygments_lexer": "ipython3",
   "version": "3.12.7"
  }
 },
 "nbformat": 4,
 "nbformat_minor": 5
}
